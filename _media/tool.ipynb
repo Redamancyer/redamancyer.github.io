{
 "cells": [
  {
   "cell_type": "code",
   "execution_count": 2,
   "id": "9981343a",
   "metadata": {},
   "outputs": [
    {
     "name": "stdout",
     "output_type": "stream",
     "text": [
      "当前目录文件列表：\n",
      "\n",
      "-_[a](/_posts/基础学习/CProgramming/a.ipynb)\n",
      "-_[ch01_C语言概述](/_posts/基础学习/CProgramming/ch01_C语言概述.md)\n",
      "-_[ch02_C语言基本概念](/_posts/基础学习/CProgramming/ch02_C语言基本概念.md)\n",
      "-_[ch03_格式化输入输出](/_posts/基础学习/CProgramming/ch03_格式化输入输出.md)\n",
      "-_[ch04_表达式](/_posts/基础学习/CProgramming/ch04_表达式.md)\n",
      "-_[ch05_选择语句](/_posts/基础学习/CProgramming/ch05_选择语句.md)\n",
      "-_[ch06_循环](/_posts/基础学习/CProgramming/ch06_循环.md)\n",
      "-_[ch07_基本类型](/_posts/基础学习/CProgramming/ch07_基本类型.md)\n",
      "-_[ch08_数组](/_posts/基础学习/CProgramming/ch08_数组.md)\n",
      "-_[ch09_函数](/_posts/基础学习/CProgramming/ch09_函数.md)\n",
      "-_[ch10_程序结构](/_posts/基础学习/CProgramming/ch10_程序结构.md)\n",
      "-_[ch11_指针](/_posts/基础学习/CProgramming/ch11_指针.md)\n",
      "-_[ch12_指针和数组](/_posts/基础学习/CProgramming/ch12_指针和数组.md)\n",
      "-_[ch13_字符串](/_posts/基础学习/CProgramming/ch13_字符串.md)\n",
      "-_[ch14_预处理器](/_posts/基础学习/CProgramming/ch14_预处理器.md)\n",
      "-_[ch15_编写大规模程序](/_posts/基础学习/CProgramming/ch15_编写大规模程序.md)\n",
      "-_[ch16_结构、联合和枚举](/_posts/基础学习/CProgramming/ch16_结构、联合和枚举.md)\n",
      "-_[ch17_指针的高级应用](/_posts/基础学习/CProgramming/ch17_指针的高级应用.md)\n",
      "-_[ch18_声明](/_posts/基础学习/CProgramming/ch18_声明.md)\n",
      "-_[ch19_程序设计](/_posts/基础学习/CProgramming/ch19_程序设计.md)\n",
      "-_[ch20_低级程序设计](/_posts/基础学习/CProgramming/ch20_低级程序设计.md)\n",
      "-_[ch21_标准库](/_posts/基础学习/CProgramming/ch21_标准库.md)\n",
      "-_[ch22_输入_输出](/_posts/基础学习/CProgramming/ch22_输入_输出.md)\n",
      "-_[ch23_库对数值和字符数据的支持](/_posts/基础学习/CProgramming/ch23_库对数值和字符数据的支持.md)\n",
      "-_[ch24_错误处理](/_posts/基础学习/CProgramming/ch24_错误处理.md)\n",
      "-_[ch25_国际化特性](/_posts/基础学习/CProgramming/ch25_国际化特性.md)\n",
      "-_[ch26_其他库函数](/_posts/基础学习/CProgramming/ch26_其他库函数.md)\n"
     ]
    }
   ],
   "source": [
    "import os\n",
    "\n",
    "# 获取当前目录下所有文件（排除隐藏文件和目录）\n",
    "files = [f for f in os.listdir() if os.path.isfile(f) and not f.startswith('.')]\n",
    "\n",
    "# 生成Markdown链接列表\n",
    "markdown_links = \"\\n\".join(f\"- [{os.path.splitext(f)[0]}](/_posts/基础学习/CProgramming/{f})\" for f in sorted(files))\n",
    "markdown_links = markdown_links.replace(' ', '_')\n",
    "print(\"当前目录文件列表：\\n\")\n",
    "print(markdown_links)"
   ]
  },
  {
   "cell_type": "code",
   "execution_count": 5,
   "id": "7ec00d71",
   "metadata": {},
   "outputs": [
    {
     "name": "stdout",
     "output_type": "stream",
     "text": [
      "当前目录文件列表：\n",
      "\n",
      "- [a.ipynb](/_posts/基础学习/CppPrimer/a.ipynb)\n",
      "- [ch01_开始.md](/_posts/基础学习/CppPrimer/ch01 开始.md)\n",
      "- [ch02_变量和基本类型.md](/_posts/基础学习/CppPrimer/ch02 变量和基本类型.md)\n",
      "- [ch03_字符串、向量和数组.md](/_posts/基础学习/CppPrimer/ch03 字符串、向量和数组.md)\n",
      "- [ch04_表达式.md](/_posts/基础学习/CppPrimer/ch04 表达式.md)\n",
      "- [ch05_语句.md](/_posts/基础学习/CppPrimer/ch05 语句.md)\n",
      "- [ch06_函数.md](/_posts/基础学习/CppPrimer/ch06 函数.md)\n",
      "- [ch07_类.md](/_posts/基础学习/CppPrimer/ch07 类.md)\n",
      "- [ch08_IO库.md](/_posts/基础学习/CppPrimer/ch08 IO库.md)\n",
      "- [ch09_顺序容器.md](/_posts/基础学习/CppPrimer/ch09 顺序容器.md)\n",
      "- [ch10_泛型算法.md](/_posts/基础学习/CppPrimer/ch10 泛型算法.md)\n",
      "- [ch11_关联容器.md](/_posts/基础学习/CppPrimer/ch11 关联容器.md)\n",
      "- [ch12_动态内存.md](/_posts/基础学习/CppPrimer/ch12 动态内存.md)\n",
      "- [ch13_拷贝控制.md](/_posts/基础学习/CppPrimer/ch13 拷贝控制.md)\n",
      "- [ch14_操作重载与类型转换.md](/_posts/基础学习/CppPrimer/ch14 操作重载与类型转换.md)\n",
      "- [ch15_面向对象程序设计.md](/_posts/基础学习/CppPrimer/ch15 面向对象程序设计.md)\n",
      "- [ch16_模板与泛型编程.md](/_posts/基础学习/CppPrimer/ch16 模板与泛型编程.md)\n",
      "- [ch17_标准库特殊设施.md](/_posts/基础学习/CppPrimer/ch17 标准库特殊设施.md)\n",
      "- [ch18_用于大型程序的工具.md](/_posts/基础学习/CppPrimer/ch18 用于大型程序的工具.md)\n",
      "- [ch19_特殊工具与技术.md](/_posts/基础学习/CppPrimer/ch19 特殊工具与技术.md)\n"
     ]
    }
   ],
   "source": [
    "import os\n",
    "\n",
    "def generate_markdown_links(directory='.'):\n",
    "    markdown_links = []\n",
    "    for filename in sorted(os.listdir(directory)):\n",
    "        if not filename.startswith('.'):  # 忽略隐藏文件/文件夹\n",
    "            filepath = os.path.join(directory, filename)\n",
    "            if os.path.isfile(filepath):  # 只处理文件\n",
    "                # 替换文件名中的空格为下划线（仅用于显示）\n",
    "                display_name = filename.replace(' ', '_')\n",
    "                # 原始文件名保持不变（用于链接）\n",
    "                markdown_links.append(f\"- [{display_name}](/_posts/基础学习/CppPrimer/{filename})\")\n",
    "    \n",
    "    return \"\\n\".join(markdown_links)\n",
    "\n",
    "print(\"当前目录文件列表：\\n\")\n",
    "print(generate_markdown_links())"
   ]
  },
  {
   "cell_type": "code",
   "execution_count": 1,
   "id": "7cf99978",
   "metadata": {},
   "outputs": [
    {
     "name": "stdout",
     "output_type": "stream",
     "text": [
      "Renamed: \"ch07 基本类型.md\" -> \"ch07_基本类型.md\"\n",
      "Renamed: \"ch20 低级程序设计.md\" -> \"ch20_低级程序设计.md\"\n",
      "Renamed: \"ch04 表达式.md\" -> \"ch04_表达式.md\"\n",
      "Renamed: \"ch01 C语言概述.md\" -> \"ch01_C语言概述.md\"\n",
      "Renamed: \"ch06 循环.md\" -> \"ch06_循环.md\"\n",
      "Renamed: \"ch23 库对数值和字符数据的支持.md\" -> \"ch23_库对数值和字符数据的支持.md\"\n",
      "Renamed: \"ch11 指针.md\" -> \"ch11_指针.md\"\n",
      "Renamed: \"ch19 程序设计.md\" -> \"ch19_程序设计.md\"\n",
      "Renamed: \"ch17 指针的高级应用.md\" -> \"ch17_指针的高级应用.md\"\n",
      "Renamed: \"ch16 结构、联合和枚举.md\" -> \"ch16_结构、联合和枚举.md\"\n",
      "Renamed: \"ch24 错误处理.md\" -> \"ch24_错误处理.md\"\n",
      "Renamed: \"ch02 C语言基本概念.md\" -> \"ch02_C语言基本概念.md\"\n",
      "Renamed: \"ch25 国际化特性.md\" -> \"ch25_国际化特性.md\"\n",
      "Renamed: \"ch10 程序结构.md\" -> \"ch10_程序结构.md\"\n",
      "Renamed: \"ch03 格式化输入输出.md\" -> \"ch03_格式化输入输出.md\"\n",
      "Renamed: \"ch22 输入_输出.md\" -> \"ch22_输入_输出.md\"\n",
      "Renamed: \"ch09 函数.md\" -> \"ch09_函数.md\"\n",
      "Renamed: \"ch15 编写大规模程序.md\" -> \"ch15_编写大规模程序.md\"\n",
      "Renamed: \"ch05 选择语句.md\" -> \"ch05_选择语句.md\"\n",
      "Renamed: \"ch18 声明.md\" -> \"ch18_声明.md\"\n",
      "Renamed: \"ch13 字符串.md\" -> \"ch13_字符串.md\"\n",
      "Renamed: \"ch21 标准库.md\" -> \"ch21_标准库.md\"\n",
      "Renamed: \"ch26 其他库函数.md\" -> \"ch26_其他库函数.md\"\n",
      "Renamed: \"ch12 指针和数组.md\" -> \"ch12_指针和数组.md\"\n",
      "Renamed: \"ch08 数组.md\" -> \"ch08_数组.md\"\n",
      "Renamed: \"ch14 预处理器.md\" -> \"ch14_预处理器.md\"\n",
      "文件名空格替换完成！\n"
     ]
    }
   ],
   "source": [
    "import os\n",
    "\n",
    "# 获取当前文件夹路径\n",
    "folder_path = os.getcwd()\n",
    "\n",
    "# 遍历当前文件夹中的所有文件和子文件夹\n",
    "for filename in os.listdir(folder_path):\n",
    "    # 忽略子文件夹，只处理文件\n",
    "    if os.path.isfile(os.path.join(folder_path, filename)):\n",
    "        # 检查文件名中是否包含空格\n",
    "        if ' ' in filename:\n",
    "            # 用下划线替换空格\n",
    "            new_filename = filename.replace(' ', '_')\n",
    "            \n",
    "            # 构建完整的旧文件路径和新文件路径\n",
    "            old_file = os.path.join(folder_path, filename)\n",
    "            new_file = os.path.join(folder_path, new_filename)\n",
    "            \n",
    "            # 重命名文件\n",
    "            os.rename(old_file, new_file)\n",
    "            print(f'Renamed: \"{filename}\" -> \"{new_filename}\"')\n",
    "\n",
    "print(\"文件名空格替换完成！\")"
   ]
  }
 ],
 "metadata": {
  "kernelspec": {
   "display_name": "base",
   "language": "python",
   "name": "python3"
  },
  "language_info": {
   "codemirror_mode": {
    "name": "ipython",
    "version": 3
   },
   "file_extension": ".py",
   "mimetype": "text/x-python",
   "name": "python",
   "nbconvert_exporter": "python",
   "pygments_lexer": "ipython3",
   "version": "3.11.6"
  }
 },
 "nbformat": 4,
 "nbformat_minor": 5
}
